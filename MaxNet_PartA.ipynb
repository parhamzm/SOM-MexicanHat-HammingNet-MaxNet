{
 "cells": [
  {
   "cell_type": "code",
   "execution_count": 4,
   "metadata": {
    "ExecuteTime": {
     "end_time": "2020-06-29T08:16:44.806371Z",
     "start_time": "2020-06-29T08:16:44.802385Z"
    },
    "colab": {},
    "colab_type": "code",
    "id": "X-__BpAymyEE"
   },
   "outputs": [],
   "source": [
    "import numpy as np"
   ]
  },
  {
   "cell_type": "code",
   "execution_count": 8,
   "metadata": {
    "ExecuteTime": {
     "end_time": "2020-06-29T08:17:24.759620Z",
     "start_time": "2020-06-29T08:17:24.755645Z"
    },
    "colab": {},
    "colab_type": "code",
    "id": "filfVsj2m4fd"
   },
   "outputs": [],
   "source": [
    "input_a = [1, -1, 2, 3, -2]\n",
    "\n",
    "eps = 0.15\n",
    "np.set_printoptions(formatter={'float': '{: 0.3f}'.format})\n"
   ]
  },
  {
   "cell_type": "code",
   "execution_count": 11,
   "metadata": {
    "ExecuteTime": {
     "end_time": "2020-06-29T08:17:47.341296Z",
     "start_time": "2020-06-29T08:17:47.327299Z"
    },
    "colab": {
     "base_uri": "https://localhost:8080/",
     "height": 357
    },
    "colab_type": "code",
    "id": "T00Ntyyonf-A",
    "outputId": "df7cc2e1-cc5a-448a-d871-81f6fa77fefc"
   },
   "outputs": [
    {
     "name": "stdout",
     "output_type": "stream",
     "text": [
      "Epsilon :=>  0.15\n",
      "#################################################\n",
      "Epoch 1:===> [ 0.700  0.000  1.850  3.000  0.000]\n",
      "********************************\n",
      "Epoch 2:===> [ 0.000  0.000  1.295  2.618  0.000]\n",
      "********************************\n",
      "Epoch 3:===> [ 0.000  0.000  0.902  2.423  0.000]\n",
      "********************************\n",
      "Epoch 4:===> [ 0.000  0.000  0.539  2.288  0.000]\n",
      "********************************\n",
      "Epoch 5:===> [ 0.000  0.000  0.196  2.207  0.000]\n",
      "********************************\n",
      "Epoch 6:===> [ 0.000  0.000  0.000  2.178  0.000]\n",
      "********************************\n",
      "Index of the Max Element :=>  3\n",
      "The Value of the Max element is :=>  3\n"
     ]
    }
   ],
   "source": [
    "def AF(x): # Activation Function\n",
    "    for i in range(0, len(x)):\n",
    "        if x[i] < 0.0:\n",
    "            x[i] = 0.0\n",
    "        else:\n",
    "            x[i] = x[i]\n",
    "    return x\n",
    "\n",
    "\n",
    "def make_MaxNet_Matrix(m=5, eps=0.15):\n",
    "    maxnet_matrix = np.full((m, m), -1*(eps))\n",
    "    np.fill_diagonal(maxnet_matrix, 1)\n",
    "    return maxnet_matrix\n",
    "\n",
    "# a = make_MaxNet_Matrix()\n",
    "# np.set_printoptions(formatter={'float': '{: 0.3f}'.format})\n",
    "# print(\"MaxNet Matrix is :=> \")\n",
    "# print((a))\n",
    "\n",
    "def MaxNet(data, eps):\n",
    "    print(\"Epsilon :=> \", eps)\n",
    "    print(\"#################################################\")\n",
    "    a_old = data.copy()\n",
    "    maxnet_mat = make_MaxNet_Matrix(m=5, eps=eps)\n",
    "    num_non_zero = 0\n",
    "    i = 0\n",
    "    while num_non_zero!=1:\n",
    "        temp_data = np.inner(maxnet_mat, a_old)\n",
    "        # print(temp_data)\n",
    "        a_new = AF(temp_data)\n",
    "        print(\"Epoch {0}:===> {1}\".format(i+1, a_new))\n",
    "        print(\"********************************\")\n",
    "        num_non_zero = np.count_nonzero(a_new)\n",
    "        a_old = a_new\n",
    "        if num_non_zero == 1:\n",
    "            break\n",
    "        i+=1\n",
    "\n",
    "    out_tpl = np.nonzero(a_new)\n",
    "    print(\"Index of the Max Element :=> \", out_tpl[0].item())\n",
    "    print(\"The Value of the Max element is :=> \", data[out_tpl[0].item()])\n",
    "\n",
    "MaxNet(data=input_a, eps=eps)"
   ]
  },
  {
   "cell_type": "code",
   "execution_count": null,
   "metadata": {
    "colab": {},
    "colab_type": "code",
    "id": "QslFx9nyAwat"
   },
   "outputs": [],
   "source": []
  }
 ],
 "metadata": {
  "colab": {
   "collapsed_sections": [],
   "name": "HW4_Q2_PartA.ipynb",
   "provenance": []
  },
  "kernelspec": {
   "display_name": "Python 3",
   "language": "python",
   "name": "python3"
  },
  "language_info": {
   "codemirror_mode": {
    "name": "ipython",
    "version": 3
   },
   "file_extension": ".py",
   "mimetype": "text/x-python",
   "name": "python",
   "nbconvert_exporter": "python",
   "pygments_lexer": "ipython3",
   "version": "3.8.2"
  }
 },
 "nbformat": 4,
 "nbformat_minor": 1
}
