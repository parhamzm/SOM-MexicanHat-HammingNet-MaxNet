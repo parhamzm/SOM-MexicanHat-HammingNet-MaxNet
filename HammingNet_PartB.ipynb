{
  "nbformat": 4,
  "nbformat_minor": 0,
  "metadata": {
    "colab": {
      "name": "HW#4_Q4_PartB.ipynb",
      "provenance": [],
      "collapsed_sections": []
    },
    "kernelspec": {
      "name": "python3",
      "display_name": "Python 3"
    }
  },
  "cells": [
    {
      "cell_type": "code",
      "metadata": {
        "id": "IqUeob-IGwfr",
        "colab_type": "code",
        "colab": {}
      },
      "source": [
        "import numpy as np\n",
        "import matplotlib.pyplot as plt"
      ],
      "execution_count": 2,
      "outputs": []
    },
    {
      "cell_type": "code",
      "metadata": {
        "id": "QbPDsOvwpKoP",
        "colab_type": "code",
        "colab": {
          "base_uri": "https://localhost:8080/",
          "height": 85
        },
        "outputId": "1b454d0f-4293-4aad-a3d7-949b9aa99fcc"
      },
      "source": [
        "n = 6\n",
        "y = np.array([[1, -1, 1, -1, 1, -1], [-1, 1, -1, 1, -1, 1], [1, 1, 1, 1, 1, 1]])\n",
        "\n",
        "bias_value = n/2\n",
        "bias = np.full((n), bias_value)\n",
        "print(\"Bias vector :=> \", bias)\n",
        "print(\"N value :=> \", n)\n",
        "print(\"Bias Value :=> \", bias_value)\n",
        "\n",
        "inputs = np.array([[ 1,-1, 1, 1,-1,1], [-1, 1, 1,-1,1,-1], [1, 1, 1,-1,-1,-1]\n",
        "                  , [-1,-1,-1, 1, 1,1], [ 1, 1, 1, 1, 1 ,1], [-1,-1,1,-1,-1,-1]\n",
        "                  , [-1,-1,-1,1,-1,-1], [ 1, 1,-1,-1, 1, 1], [ 1, 1,-1, 1, 1, 1]\n",
        "                  , [ 1, 1, 1,-1, 1, 1]])\n",
        "print (\"inputs.shape:\", inputs.shape)\n",
        "\n",
        "# y1 = y[0].reshape(1, y[0].shape[0]).T\n",
        "# w_t = w[:, 0].reshape((-1, 1))\n",
        "\n",
        "def make_weight_matrix(y=y, n=n):\n",
        "    y_shape = y.shape\n",
        "    print(\"Y shape :=> \", y_shape)\n",
        "    w = np.zeros((y_shape[1], y_shape[0]))\n",
        "    for i in range(0, y.shape[0]):\n",
        "        w[:, i] = y[i]/2\n",
        "    w[:, 0] = y[0]/2\n",
        "    print(\"Weights shape:=> \", w.shape)\n",
        "    return w"
      ],
      "execution_count": 3,
      "outputs": [
        {
          "output_type": "stream",
          "text": [
            "Bias vector :=>  [3. 3. 3. 3. 3. 3.]\n",
            "N value :=>  6\n",
            "Bias Value :=>  3.0\n",
            "inputs.shape: (10, 6)\n"
          ],
          "name": "stdout"
        }
      ]
    },
    {
      "cell_type": "code",
      "metadata": {
        "id": "yAECHaMP170X",
        "colab_type": "code",
        "colab": {}
      },
      "source": [
        "eps = 0.15\n",
        "def AF(x): # Activation Function\n",
        "    for i in range(0, len(x)):\n",
        "        if x[i] < 0.0:\n",
        "            x[i] = 0.0\n",
        "        else:\n",
        "            x[i] = x[i]\n",
        "    return x\n",
        "\n",
        "def make_MaxNet_Matrix(m=6, eps=0.15):\n",
        "    maxnet_matrix = np.full((m, m), -1*(eps))\n",
        "    np.fill_diagonal(maxnet_matrix, 1)\n",
        "    return maxnet_matrix\n",
        "\n",
        "def MaxNet(data, eps):\n",
        "    # print(\"#################################################\")\n",
        "    # print(\"Epsilon :=> \", eps)\n",
        "    a_old = data.copy()\n",
        "    maxnet_mat = make_MaxNet_Matrix(m=3, eps=eps)\n",
        "    num_non_zero = 0\n",
        "    i = 0\n",
        "    while num_non_zero!=1:\n",
        "        temp_data = np.inner(maxnet_mat, a_old)\n",
        "        # print(temp_data)\n",
        "        a_new = AF(temp_data)\n",
        "        # print(\"Epoch {0}:===> {1}\".format(i+1, a_new))\n",
        "        # print(\"********************************\")\n",
        "        num_non_zero = np.count_nonzero(a_new)\n",
        "        a_old = a_new\n",
        "        if num_non_zero == 1:\n",
        "            break\n",
        "        i+=1\n",
        "\n",
        "    out_tpl = np.nonzero(a_new)\n",
        "    print(\"Index of the Max Element :=> \", out_tpl[0].item())\n",
        "    print(\"The Value of the Max element is :=> \", data[out_tpl[0].item()])"
      ],
      "execution_count": 13,
      "outputs": []
    },
    {
      "cell_type": "code",
      "metadata": {
        "id": "FwTT78LRNcSm",
        "colab_type": "code",
        "colab": {
          "base_uri": "https://localhost:8080/",
          "height": 1000
        },
        "outputId": "eba58122-73aa-4a9b-efb0-47c4b06f14c0"
      },
      "source": [
        "def HammingMaxNet(y=y, b=bias, x=inputs, n=10):\n",
        "    print(\"Hammig Net HyperParameters\")\n",
        "    weights = make_weight_matrix()\n",
        "    y_in = np.zeros(y.shape[0] , np.float)\n",
        "    for i in range(n):\n",
        "        print(\"#####################\")\n",
        "        print(\"V{0} :=> {1}\".format(i+1, x[i]))\n",
        "        print(\"--------------------\")\n",
        "        for j in range(weights.shape[1]):\n",
        "            y_in[j] = b[j] + np.sum(np.dot(x[i], weights[:, j]))\n",
        "            print(\"y_in {0} :=> {1}\".format(j, y_in[j]))\n",
        "        MaxNet(data=y_in, eps=eps)\n",
        "        print(\"*****************\")\n",
        "\n",
        "HammingMaxNet()"
      ],
      "execution_count": 14,
      "outputs": [
        {
          "output_type": "stream",
          "text": [
            "Hammig Net HyperParameters\n",
            "Y shape :=>  (3, 6)\n",
            "Weights shape:=>  (6, 3)\n",
            "#####################\n",
            "V1 :=> [ 1 -1  1  1 -1  1]\n",
            "--------------------\n",
            "y_in 0 :=> 3.0\n",
            "y_in 1 :=> 3.0\n",
            "y_in 2 :=> 4.0\n",
            "Index of the Max Element :=>  2\n",
            "The Value of the Max element is :=>  4.0\n",
            "*****************\n",
            "#####################\n",
            "V2 :=> [-1  1  1 -1  1 -1]\n",
            "--------------------\n",
            "y_in 0 :=> 4.0\n",
            "y_in 1 :=> 2.0\n",
            "y_in 2 :=> 3.0\n",
            "Index of the Max Element :=>  0\n",
            "The Value of the Max element is :=>  4.0\n",
            "*****************\n",
            "#####################\n",
            "V3 :=> [ 1  1  1 -1 -1 -1]\n",
            "--------------------\n",
            "y_in 0 :=> 4.0\n",
            "y_in 1 :=> 2.0\n",
            "y_in 2 :=> 3.0\n",
            "Index of the Max Element :=>  0\n",
            "The Value of the Max element is :=>  4.0\n",
            "*****************\n",
            "#####################\n",
            "V4 :=> [-1 -1 -1  1  1  1]\n",
            "--------------------\n",
            "y_in 0 :=> 2.0\n",
            "y_in 1 :=> 4.0\n",
            "y_in 2 :=> 3.0\n",
            "Index of the Max Element :=>  1\n",
            "The Value of the Max element is :=>  4.0\n",
            "*****************\n",
            "#####################\n",
            "V5 :=> [1 1 1 1 1 1]\n",
            "--------------------\n",
            "y_in 0 :=> 3.0\n",
            "y_in 1 :=> 3.0\n",
            "y_in 2 :=> 6.0\n",
            "Index of the Max Element :=>  2\n",
            "The Value of the Max element is :=>  6.0\n",
            "*****************\n",
            "#####################\n",
            "V6 :=> [-1 -1  1 -1 -1 -1]\n",
            "--------------------\n",
            "y_in 0 :=> 4.0\n",
            "y_in 1 :=> 2.0\n",
            "y_in 2 :=> 1.0\n",
            "Index of the Max Element :=>  0\n",
            "The Value of the Max element is :=>  4.0\n",
            "*****************\n",
            "#####################\n",
            "V7 :=> [-1 -1 -1  1 -1 -1]\n",
            "--------------------\n",
            "y_in 0 :=> 2.0\n",
            "y_in 1 :=> 4.0\n",
            "y_in 2 :=> 1.0\n",
            "Index of the Max Element :=>  1\n",
            "The Value of the Max element is :=>  4.0\n",
            "*****************\n",
            "#####################\n",
            "V8 :=> [ 1  1 -1 -1  1  1]\n",
            "--------------------\n",
            "y_in 0 :=> 3.0\n",
            "y_in 1 :=> 3.0\n",
            "y_in 2 :=> 4.0\n",
            "Index of the Max Element :=>  2\n",
            "The Value of the Max element is :=>  4.0\n",
            "*****************\n",
            "#####################\n",
            "V9 :=> [ 1  1 -1  1  1  1]\n",
            "--------------------\n",
            "y_in 0 :=> 2.0\n",
            "y_in 1 :=> 4.0\n",
            "y_in 2 :=> 5.0\n",
            "Index of the Max Element :=>  2\n",
            "The Value of the Max element is :=>  5.0\n",
            "*****************\n",
            "#####################\n",
            "V10 :=> [ 1  1  1 -1  1  1]\n",
            "--------------------\n",
            "y_in 0 :=> 4.0\n",
            "y_in 1 :=> 2.0\n",
            "y_in 2 :=> 5.0\n",
            "Index of the Max Element :=>  2\n",
            "The Value of the Max element is :=>  5.0\n",
            "*****************\n"
          ],
          "name": "stdout"
        }
      ]
    },
    {
      "cell_type": "code",
      "metadata": {
        "id": "xVYBfO0JPTP2",
        "colab_type": "code",
        "colab": {}
      },
      "source": [
        ""
      ],
      "execution_count": null,
      "outputs": []
    }
  ]
}