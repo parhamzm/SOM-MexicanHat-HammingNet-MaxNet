{
  "nbformat": 4,
  "nbformat_minor": 0,
  "metadata": {
    "colab": {
      "name": "HW#4_Q4_PartA.ipynb",
      "provenance": [],
      "collapsed_sections": []
    },
    "kernelspec": {
      "name": "python3",
      "display_name": "Python 3"
    }
  },
  "cells": [
    {
      "cell_type": "code",
      "metadata": {
        "id": "IqUeob-IGwfr",
        "colab_type": "code",
        "colab": {}
      },
      "source": [
        "import numpy as np\n",
        "import matplotlib.pyplot as plt"
      ],
      "execution_count": 1,
      "outputs": []
    },
    {
      "cell_type": "code",
      "metadata": {
        "id": "QbPDsOvwpKoP",
        "colab_type": "code",
        "colab": {
          "base_uri": "https://localhost:8080/",
          "height": 85
        },
        "outputId": "fe563104-9de0-4df2-9ce4-8016f9d511ee"
      },
      "source": [
        "n = 6\n",
        "y = np.array([[1, -1, 1, -1, 1, -1], [-1, 1, -1, 1, -1, 1], [1, 1, 1, 1, 1, 1]])\n",
        "\n",
        "bias_value = n/2\n",
        "bias = np.full((n), bias_value)\n",
        "print(\"Bias vector :=> \", bias)\n",
        "print(\"N value :=> \", n)\n",
        "print(\"Bias Value :=> \", bias_value)\n",
        "\n",
        "inputs = np.array([[ 1,-1, 1, 1,-1,1], [-1, 1, 1,-1,1,-1], [1, 1, 1,-1,-1,-1]\n",
        "                  , [-1,-1,-1, 1, 1,1], [ 1, 1, 1, 1, 1 ,1], [-1,-1,1,-1,-1,-1]\n",
        "                  , [-1,-1,-1,1,-1,-1], [ 1, 1,-1,-1, 1, 1], [ 1, 1,-1, 1, 1, 1]\n",
        "                  , [ 1, 1, 1,-1, 1, 1]])\n",
        "print (\"inputs.shape:\", inputs.shape)\n",
        "\n",
        "# y1 = y[0].reshape(1, y[0].shape[0]).T\n",
        "# w_t = w[:, 0].reshape((-1, 1))\n",
        "\n",
        "def make_weight_matrix(y=y, n=n):\n",
        "    y_shape = y.shape\n",
        "    print(\"Y shape :=> \", y_shape)\n",
        "    w = np.zeros((y_shape[1], y_shape[0]))\n",
        "    for i in range(0, y.shape[0]):\n",
        "        w[:, i] = y[i]/2\n",
        "    w[:, 0] = y[0]/2\n",
        "    print(\"Weights shape:=> \", w.shape)\n",
        "    return w"
      ],
      "execution_count": 12,
      "outputs": [
        {
          "output_type": "stream",
          "text": [
            "Bias vector :=>  [3. 3. 3. 3. 3. 3.]\n",
            "N value :=>  6\n",
            "Bias Value :=>  3.0\n",
            "inputs.shape: (10, 6)\n"
          ],
          "name": "stdout"
        }
      ]
    },
    {
      "cell_type": "code",
      "metadata": {
        "id": "FwTT78LRNcSm",
        "colab_type": "code",
        "colab": {
          "base_uri": "https://localhost:8080/",
          "height": 1000
        },
        "outputId": "057e624b-49c3-45e6-8397-27e32fff9695"
      },
      "source": [
        "def HammingNet(y=y, b=bias, x=inputs, n=10):\n",
        "    print(\"Hammig Net HyperParameters\")\n",
        "    weights = make_weight_matrix()\n",
        "    y_in = np.zeros(y.shape[0] , np.float)\n",
        "    for i in range(n):\n",
        "        print(\"#####################\")\n",
        "        print(\"V{0} :=>\".format(i+1))\n",
        "        print(\"--------------------\")\n",
        "        for j in range(weights.shape[1]):\n",
        "            y_in[j] = b[j] + np.sum(np.dot(x[i], weights[:, j]))\n",
        "            print(\"y_in {0} :=> {1}\".format(j, y_in[j]))\n",
        "        print(\"*****************\")\n",
        "\n",
        "HammingNet()"
      ],
      "execution_count": 15,
      "outputs": [
        {
          "output_type": "stream",
          "text": [
            "Hammig Net HyperParameters\n",
            "Y shape :=>  (3, 6)\n",
            "Weights shape:=>  (6, 3)\n",
            "#####################\n",
            "V1 :=>\n",
            "--------------------\n",
            "y_in 0 :=> 3.0\n",
            "y_in 1 :=> 3.0\n",
            "y_in 2 :=> 4.0\n",
            "*****************\n",
            "#####################\n",
            "V2 :=>\n",
            "--------------------\n",
            "y_in 0 :=> 4.0\n",
            "y_in 1 :=> 2.0\n",
            "y_in 2 :=> 3.0\n",
            "*****************\n",
            "#####################\n",
            "V3 :=>\n",
            "--------------------\n",
            "y_in 0 :=> 4.0\n",
            "y_in 1 :=> 2.0\n",
            "y_in 2 :=> 3.0\n",
            "*****************\n",
            "#####################\n",
            "V4 :=>\n",
            "--------------------\n",
            "y_in 0 :=> 2.0\n",
            "y_in 1 :=> 4.0\n",
            "y_in 2 :=> 3.0\n",
            "*****************\n",
            "#####################\n",
            "V5 :=>\n",
            "--------------------\n",
            "y_in 0 :=> 3.0\n",
            "y_in 1 :=> 3.0\n",
            "y_in 2 :=> 6.0\n",
            "*****************\n",
            "#####################\n",
            "V6 :=>\n",
            "--------------------\n",
            "y_in 0 :=> 4.0\n",
            "y_in 1 :=> 2.0\n",
            "y_in 2 :=> 1.0\n",
            "*****************\n",
            "#####################\n",
            "V7 :=>\n",
            "--------------------\n",
            "y_in 0 :=> 2.0\n",
            "y_in 1 :=> 4.0\n",
            "y_in 2 :=> 1.0\n",
            "*****************\n",
            "#####################\n",
            "V8 :=>\n",
            "--------------------\n",
            "y_in 0 :=> 3.0\n",
            "y_in 1 :=> 3.0\n",
            "y_in 2 :=> 4.0\n",
            "*****************\n",
            "#####################\n",
            "V9 :=>\n",
            "--------------------\n",
            "y_in 0 :=> 2.0\n",
            "y_in 1 :=> 4.0\n",
            "y_in 2 :=> 5.0\n",
            "*****************\n",
            "#####################\n",
            "V10 :=>\n",
            "--------------------\n",
            "y_in 0 :=> 4.0\n",
            "y_in 1 :=> 2.0\n",
            "y_in 2 :=> 5.0\n",
            "*****************\n"
          ],
          "name": "stdout"
        }
      ]
    },
    {
      "cell_type": "code",
      "metadata": {
        "id": "xVYBfO0JPTP2",
        "colab_type": "code",
        "colab": {}
      },
      "source": [
        ""
      ],
      "execution_count": null,
      "outputs": []
    }
  ]
}